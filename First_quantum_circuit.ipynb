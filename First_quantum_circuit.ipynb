{
  "nbformat": 4,
  "nbformat_minor": 0,
  "metadata": {
    "colab": {
      "provenance": [],
      "authorship_tag": "ABX9TyPCwrey2RFumrQtk1ollpGQ",
      "include_colab_link": true
    },
    "kernelspec": {
      "name": "python3",
      "display_name": "Python 3"
    },
    "language_info": {
      "name": "python"
    }
  },
  "cells": [
    {
      "cell_type": "markdown",
      "metadata": {
        "id": "view-in-github",
        "colab_type": "text"
      },
      "source": [
        "<a href=\"https://colab.research.google.com/github/Slivka007/infa_2022_Slivka/blob/main/First_quantum_circuit.ipynb\" target=\"_parent\"><img src=\"https://colab.research.google.com/assets/colab-badge.svg\" alt=\"Open In Colab\"/></a>"
      ]
    },
    {
      "cell_type": "code",
      "execution_count": 16,
      "metadata": {
        "id": "3VBPpQ85am2u"
      },
      "outputs": [],
      "source": [
        "!pip install qiskit --quiet --no-warn-conflicts\n",
        "!pip install matplotlib --quiet --no-warn-conflicts\n",
        "!pip install pylatexenc --quiet --no-warn-conflicts"
      ]
    },
    {
      "cell_type": "code",
      "source": [
        "import qiskit as qk\n",
        "from qiskit.circuit.library import QFT\n",
        "import numpy as np\n"
      ],
      "metadata": {
        "id": "UDkr0LkghAHC"
      },
      "execution_count": 17,
      "outputs": []
    },
    {
      "cell_type": "code",
      "source": [
        "q = qk.QuantumRegister(2) # Creating 2 Qubit\n",
        "c = qk.ClassicalRegister(2) # Creating 2 Classical Bits\n",
        "circuit = qk.QuantumCircuit(q, c) # Creating Quantum Circuit\n",
        "circuit.h(q[0]) # Hadamard Gate on the first Qubit\n",
        "circuit.cx(q[0], q[1]) # CNOT Gate on the first and second Qubits\n",
        "'''\n",
        "CNOT Gate\n",
        "Control  Target  Control  Target \n",
        "  0        0        0       0\n",
        "  0        1        0       1\n",
        "  1        0        1       1\n",
        "  1        1        1       0\n",
        "\n",
        "'''\n",
        "\n",
        "circuit.measure(q, c) # Measuring the Qubits\n",
        "\n",
        "circuit.draw()\n"
      ],
      "metadata": {
        "colab": {
          "base_uri": "https://localhost:8080/",
          "height": 122
        },
        "id": "n5dY2E9ThsNJ",
        "outputId": "601293a3-eaa1-4d3c-fc44-786906259667"
      },
      "execution_count": 35,
      "outputs": [
        {
          "output_type": "execute_result",
          "data": {
            "text/plain": [
              "       ┌───┐     ┌─┐   \n",
              "q26_0: ┤ H ├──■──┤M├───\n",
              "       └───┘┌─┴─┐└╥┘┌─┐\n",
              "q26_1: ─────┤ X ├─╫─┤M├\n",
              "            └───┘ ║ └╥┘\n",
              "c22: 2/═══════════╩══╩═\n",
              "                  0  1 "
            ],
            "text/html": [
              "<pre style=\"word-wrap: normal;white-space: pre;background: #fff0;line-height: 1.1;font-family: &quot;Courier New&quot;,Courier,monospace\">       ┌───┐     ┌─┐   \n",
              "q26_0: ┤ H ├──■──┤M├───\n",
              "       └───┘┌─┴─┐└╥┘┌─┐\n",
              "q26_1: ─────┤ X ├─╫─┤M├\n",
              "            └───┘ ║ └╥┘\n",
              "c22: 2/═══════════╩══╩═\n",
              "                  0  1 </pre>"
            ]
          },
          "metadata": {},
          "execution_count": 35
        }
      ]
    },
    {
      "cell_type": "code",
      "source": [
        "\"\"\" quantum circuit simulation circuit \"\"\"\n",
        "\n",
        "# Using Qiskit Aer's Qasm Simulator\n",
        "simulator = qk.BasicAer.get_backend('qasm_simulator')\n",
        "\n",
        "# Simulating the circuit using the simulator to get the result\n",
        "job = qk.execute(circuit, simulator)\n",
        "result = job.result()\n",
        "\n",
        "# Getting the aggregated binary outcomes of the circuit.\n",
        "counts = result.get_counts(circuit)\n",
        "print (counts)"
      ],
      "metadata": {
        "colab": {
          "base_uri": "https://localhost:8080/"
        },
        "id": "Su_8BQLUq9nk",
        "outputId": "ac3518e9-530d-461e-e4f4-d13fb6d8e49c"
      },
      "execution_count": 40,
      "outputs": [
        {
          "output_type": "stream",
          "name": "stdout",
          "text": [
            "{'00': 483, '11': 541}\n"
          ]
        }
      ]
    }
  ]
}